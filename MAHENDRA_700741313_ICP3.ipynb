{
 "cells": [
  {
   "cell_type": "raw",
   "id": "70416bc9",
   "metadata": {},
   "source": [
    "# 1. Create a class Employee and then do the following\n",
    "• Create a data member to count the number of Employees\n",
    "• Create a constructor to initialize name, family, salary, department\n",
    "• Create a function to average salary\n",
    "• Create a Fulltime Employee class and it should inherit the properties of Employee class\n",
    "• Create the instances of Fulltime Employee class and Employee class and call their member functions."
   ]
  },
  {
   "cell_type": "code",
   "execution_count": 4,
   "id": "630fe72e",
   "metadata": {},
   "outputs": [
    {
     "name": "stdout",
     "output_type": "stream",
     "text": [
      "Average salary: $61666.67\n",
      "Total employees: 3\n"
     ]
    }
   ],
   "source": [
    "class Employee:\n",
    "    total_employees = 0\n",
    "\n",
    "    def __init__(self, name, family, salary, department):\n",
    "        self.name = name\n",
    "        self.family = family\n",
    "        self.salary = salary\n",
    "        self.department = department\n",
    "        Employee.total_employees += 1\n",
    "\n",
    "    def average_salary(self, employee_list):\n",
    "        total_salary = 0\n",
    "        for e in employee_list:\n",
    "            total_salary += e.salary\n",
    "        return total_salary / len(employee_list)\n",
    "\n",
    "class FulltimeEmployee(Employee):\n",
    "    def __init__(self, name, family, salary, department):\n",
    "        super().__init__(name, family, salary, department)\n",
    "\n",
    "# Creating instances of Employee and FulltimeEmployee classes\n",
    "employee1 = Employee(\"John Doe\", \"Family A\", 60000, \"HR\")\n",
    "employee2 = Employee(\"Jane Smith\", \"Family B\", 55000, \"IT\")\n",
    "fulltime_employee1 = FulltimeEmployee(\"Alice Johnson\", \"Family C\", 70000, \"Finance\")\n",
    "\n",
    "# Calling member functions\n",
    "employees = [employee1, employee2, fulltime_employee1]\n",
    "avg_salary = employee1.average_salary(employees)\n",
    "print(f\"Average salary: ${avg_salary:.2f}\")\n",
    "print(f\"Total employees: {Employee.total_employees}\")"
   ]
  },
  {
   "cell_type": "markdown",
   "id": "847b5812",
   "metadata": {},
   "source": [
    "2. Numpy\n",
    "Using NumPy create random vector of size 20 having only float in the range 1-20.\n",
    "Then reshape the array to 4 by 5\n",
    "Then replace the max in each row by 0 (axis=1)\n",
    "(you can NOT implement it via for loop)"
   ]
  },
  {
   "cell_type": "code",
   "execution_count": 6,
   "id": "bebafd6a",
   "metadata": {},
   "outputs": [
    {
     "name": "stdout",
     "output_type": "stream",
     "text": [
      "original vector :  [17.81801116 16.7355839   8.87269919 10.75115033 12.58943498 15.37278419\n",
      " 15.19414489 13.19438406 19.9733516  17.71361628  3.6067258   3.30342352\n",
      "  6.45772366  7.14111965 17.95452976  3.84396699 18.71137074 16.27289234\n",
      " 12.56125209  7.96704034]\n",
      "Original reshaped array:\n",
      "[[ 0.         16.7355839   8.87269919 10.75115033 12.58943498]\n",
      " [15.37278419 15.19414489 13.19438406  0.         17.71361628]\n",
      " [ 3.6067258   3.30342352  6.45772366  7.14111965  0.        ]\n",
      " [ 3.84396699  0.         16.27289234 12.56125209  7.96704034]]\n"
     ]
    }
   ],
   "source": [
    "import numpy as np\n",
    "\n",
    "\n",
    "random_vector = np.random.uniform(1, 20, size=20)\n",
    "\n",
    "print(\"original vector : \",random_vector)\n",
    "\n",
    "reshaped_array = random_vector.reshape(4, 5)\n",
    "\n",
    "\n",
    "reshaped_array[np.arange(reshaped_array.shape[0]), np.argmax(reshaped_array, axis=1)] = 0\n",
    "\n",
    "print(\"Original reshaped array:\")\n",
    "print(reshaped_array)"
   ]
  },
  {
   "cell_type": "code",
   "execution_count": null,
   "id": "b49b1e21",
   "metadata": {},
   "outputs": [],
   "source": []
  }
 ],
 "metadata": {
  "kernelspec": {
   "display_name": "Python 3 (ipykernel)",
   "language": "python",
   "name": "python3"
  },
  "language_info": {
   "codemirror_mode": {
    "name": "ipython",
    "version": 3
   },
   "file_extension": ".py",
   "mimetype": "text/x-python",
   "name": "python",
   "nbconvert_exporter": "python",
   "pygments_lexer": "ipython3",
   "version": "3.10.9"
  }
 },
 "nbformat": 4,
 "nbformat_minor": 5
}
